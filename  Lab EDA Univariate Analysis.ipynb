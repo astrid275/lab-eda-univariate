{
 "cells": [
  {
   "cell_type": "code",
   "execution_count": 2,
   "id": "6b7c464a-0172-444c-83aa-ef5bd04cfb27",
   "metadata": {},
   "outputs": [],
   "source": [
    "import pandas as pd\n",
    "import matplotlib.pyplot as plt\n",
    "import seaborn as sns\n",
    "import numpy as np\n",
    "\n",
    "%matplotlib inline"
   ]
  },
  {
   "cell_type": "code",
   "execution_count": 3,
   "id": "34787c7c-375a-49f9-b0a2-329738d3d4ae",
   "metadata": {},
   "outputs": [],
   "source": [
    "df = pd.read_csv(\"amz_uk_price_prediction_dataset.csv\")"
   ]
  },
  {
   "cell_type": "code",
   "execution_count": 5,
   "id": "4c46c02c-6e31-41c5-8fc3-f1d03359de9f",
   "metadata": {},
   "outputs": [
    {
     "data": {
      "text/html": [
       "<div>\n",
       "<style scoped>\n",
       "    .dataframe tbody tr th:only-of-type {\n",
       "        vertical-align: middle;\n",
       "    }\n",
       "\n",
       "    .dataframe tbody tr th {\n",
       "        vertical-align: top;\n",
       "    }\n",
       "\n",
       "    .dataframe thead th {\n",
       "        text-align: right;\n",
       "    }\n",
       "</style>\n",
       "<table border=\"1\" class=\"dataframe\">\n",
       "  <thead>\n",
       "    <tr style=\"text-align: right;\">\n",
       "      <th></th>\n",
       "      <th>uid</th>\n",
       "      <th>asin</th>\n",
       "      <th>title</th>\n",
       "      <th>stars</th>\n",
       "      <th>reviews</th>\n",
       "      <th>price</th>\n",
       "      <th>isBestSeller</th>\n",
       "      <th>boughtInLastMonth</th>\n",
       "      <th>category</th>\n",
       "    </tr>\n",
       "  </thead>\n",
       "  <tbody>\n",
       "    <tr>\n",
       "      <th>0</th>\n",
       "      <td>1</td>\n",
       "      <td>B09B96TG33</td>\n",
       "      <td>Echo Dot (5th generation, 2022 release) | Big ...</td>\n",
       "      <td>4.7</td>\n",
       "      <td>15308</td>\n",
       "      <td>21.99</td>\n",
       "      <td>False</td>\n",
       "      <td>0</td>\n",
       "      <td>Hi-Fi Speakers</td>\n",
       "    </tr>\n",
       "    <tr>\n",
       "      <th>1</th>\n",
       "      <td>2</td>\n",
       "      <td>B01HTH3C8S</td>\n",
       "      <td>Anker Soundcore mini, Super-Portable Bluetooth...</td>\n",
       "      <td>4.7</td>\n",
       "      <td>98099</td>\n",
       "      <td>23.99</td>\n",
       "      <td>True</td>\n",
       "      <td>0</td>\n",
       "      <td>Hi-Fi Speakers</td>\n",
       "    </tr>\n",
       "    <tr>\n",
       "      <th>2</th>\n",
       "      <td>3</td>\n",
       "      <td>B09B8YWXDF</td>\n",
       "      <td>Echo Dot (5th generation, 2022 release) | Big ...</td>\n",
       "      <td>4.7</td>\n",
       "      <td>15308</td>\n",
       "      <td>21.99</td>\n",
       "      <td>False</td>\n",
       "      <td>0</td>\n",
       "      <td>Hi-Fi Speakers</td>\n",
       "    </tr>\n",
       "    <tr>\n",
       "      <th>3</th>\n",
       "      <td>4</td>\n",
       "      <td>B09B8T5VGV</td>\n",
       "      <td>Echo Dot with clock (5th generation, 2022 rele...</td>\n",
       "      <td>4.7</td>\n",
       "      <td>7205</td>\n",
       "      <td>31.99</td>\n",
       "      <td>False</td>\n",
       "      <td>0</td>\n",
       "      <td>Hi-Fi Speakers</td>\n",
       "    </tr>\n",
       "    <tr>\n",
       "      <th>4</th>\n",
       "      <td>5</td>\n",
       "      <td>B09WX6QD65</td>\n",
       "      <td>Introducing Echo Pop | Full sound compact Wi-F...</td>\n",
       "      <td>4.6</td>\n",
       "      <td>1881</td>\n",
       "      <td>17.99</td>\n",
       "      <td>False</td>\n",
       "      <td>0</td>\n",
       "      <td>Hi-Fi Speakers</td>\n",
       "    </tr>\n",
       "    <tr>\n",
       "      <th>...</th>\n",
       "      <td>...</td>\n",
       "      <td>...</td>\n",
       "      <td>...</td>\n",
       "      <td>...</td>\n",
       "      <td>...</td>\n",
       "      <td>...</td>\n",
       "      <td>...</td>\n",
       "      <td>...</td>\n",
       "      <td>...</td>\n",
       "    </tr>\n",
       "    <tr>\n",
       "      <th>2443646</th>\n",
       "      <td>2828589</td>\n",
       "      <td>B0CHSD7P2Q</td>\n",
       "      <td>Motorbike Armour, Motorbike Clothing, Cycling ...</td>\n",
       "      <td>0.0</td>\n",
       "      <td>0</td>\n",
       "      <td>22.34</td>\n",
       "      <td>False</td>\n",
       "      <td>0</td>\n",
       "      <td>Motorbike Clothing</td>\n",
       "    </tr>\n",
       "    <tr>\n",
       "      <th>2443647</th>\n",
       "      <td>2828590</td>\n",
       "      <td>B0B7B8FNBQ</td>\n",
       "      <td>PROFIRST Waterproof Motorcycle 2 Piece Ladies ...</td>\n",
       "      <td>0.0</td>\n",
       "      <td>0</td>\n",
       "      <td>97.99</td>\n",
       "      <td>False</td>\n",
       "      <td>0</td>\n",
       "      <td>Motorbike Clothing</td>\n",
       "    </tr>\n",
       "    <tr>\n",
       "      <th>2443648</th>\n",
       "      <td>2828591</td>\n",
       "      <td>B0BD5FL5FB</td>\n",
       "      <td>Men’s Motorcycle Motorbike Biker Trousers Kevl...</td>\n",
       "      <td>0.0</td>\n",
       "      <td>0</td>\n",
       "      <td>52.99</td>\n",
       "      <td>False</td>\n",
       "      <td>0</td>\n",
       "      <td>Motorbike Clothing</td>\n",
       "    </tr>\n",
       "    <tr>\n",
       "      <th>2443649</th>\n",
       "      <td>2828592</td>\n",
       "      <td>B008OYLL4I</td>\n",
       "      <td>Texpeed Mens Motorcycle Motorbike Biker Trouse...</td>\n",
       "      <td>4.3</td>\n",
       "      <td>404</td>\n",
       "      <td>79.99</td>\n",
       "      <td>False</td>\n",
       "      <td>0</td>\n",
       "      <td>Motorbike Clothing</td>\n",
       "    </tr>\n",
       "    <tr>\n",
       "      <th>2443650</th>\n",
       "      <td>2828593</td>\n",
       "      <td>B08P3W9B3T</td>\n",
       "      <td>RIDEX CJ223 Motorcycle Motorbike Jacket Armour...</td>\n",
       "      <td>4.5</td>\n",
       "      <td>34</td>\n",
       "      <td>53.99</td>\n",
       "      <td>False</td>\n",
       "      <td>0</td>\n",
       "      <td>Motorbike Clothing</td>\n",
       "    </tr>\n",
       "  </tbody>\n",
       "</table>\n",
       "<p>2443651 rows × 9 columns</p>\n",
       "</div>"
      ],
      "text/plain": [
       "             uid        asin  \\\n",
       "0              1  B09B96TG33   \n",
       "1              2  B01HTH3C8S   \n",
       "2              3  B09B8YWXDF   \n",
       "3              4  B09B8T5VGV   \n",
       "4              5  B09WX6QD65   \n",
       "...          ...         ...   \n",
       "2443646  2828589  B0CHSD7P2Q   \n",
       "2443647  2828590  B0B7B8FNBQ   \n",
       "2443648  2828591  B0BD5FL5FB   \n",
       "2443649  2828592  B008OYLL4I   \n",
       "2443650  2828593  B08P3W9B3T   \n",
       "\n",
       "                                                     title  stars  reviews  \\\n",
       "0        Echo Dot (5th generation, 2022 release) | Big ...    4.7    15308   \n",
       "1        Anker Soundcore mini, Super-Portable Bluetooth...    4.7    98099   \n",
       "2        Echo Dot (5th generation, 2022 release) | Big ...    4.7    15308   \n",
       "3        Echo Dot with clock (5th generation, 2022 rele...    4.7     7205   \n",
       "4        Introducing Echo Pop | Full sound compact Wi-F...    4.6     1881   \n",
       "...                                                    ...    ...      ...   \n",
       "2443646  Motorbike Armour, Motorbike Clothing, Cycling ...    0.0        0   \n",
       "2443647  PROFIRST Waterproof Motorcycle 2 Piece Ladies ...    0.0        0   \n",
       "2443648  Men’s Motorcycle Motorbike Biker Trousers Kevl...    0.0        0   \n",
       "2443649  Texpeed Mens Motorcycle Motorbike Biker Trouse...    4.3      404   \n",
       "2443650  RIDEX CJ223 Motorcycle Motorbike Jacket Armour...    4.5       34   \n",
       "\n",
       "         price  isBestSeller  boughtInLastMonth            category  \n",
       "0        21.99         False                  0      Hi-Fi Speakers  \n",
       "1        23.99          True                  0      Hi-Fi Speakers  \n",
       "2        21.99         False                  0      Hi-Fi Speakers  \n",
       "3        31.99         False                  0      Hi-Fi Speakers  \n",
       "4        17.99         False                  0      Hi-Fi Speakers  \n",
       "...        ...           ...                ...                 ...  \n",
       "2443646  22.34         False                  0  Motorbike Clothing  \n",
       "2443647  97.99         False                  0  Motorbike Clothing  \n",
       "2443648  52.99         False                  0  Motorbike Clothing  \n",
       "2443649  79.99         False                  0  Motorbike Clothing  \n",
       "2443650  53.99         False                  0  Motorbike Clothing  \n",
       "\n",
       "[2443651 rows x 9 columns]"
      ]
     },
     "execution_count": 5,
     "metadata": {},
     "output_type": "execute_result"
    }
   ],
   "source": [
    "df"
   ]
  },
  {
   "cell_type": "code",
   "execution_count": null,
   "id": "e02095bc-3a34-4ea6-bfcc-9b3470d4e299",
   "metadata": {},
   "outputs": [],
   "source": [
    "# Frequency Tables:\n",
    "# Generate a frequency table for the product category.\n",
    "# Which are the top 5 most listed product categories?"
   ]
  },
  {
   "cell_type": "code",
   "execution_count": 6,
   "id": "cfe502e3-12ac-4937-9c65-1cc23bba1553",
   "metadata": {},
   "outputs": [
    {
     "data": {
      "text/plain": [
       "Index(['uid', 'asin', 'title', 'stars', 'reviews', 'price', 'isBestSeller',\n",
       "       'boughtInLastMonth', 'category'],\n",
       "      dtype='object')"
      ]
     },
     "execution_count": 6,
     "metadata": {},
     "output_type": "execute_result"
    }
   ],
   "source": [
    "df.columns"
   ]
  },
  {
   "cell_type": "code",
   "execution_count": 21,
   "id": "a0ee4881-0969-42f4-aee9-d6a4028bec0f",
   "metadata": {},
   "outputs": [
    {
     "data": {
      "text/plain": [
       "category\n",
       "Sports & Outdoors                         836265\n",
       "Beauty                                     19312\n",
       "Handmade Clothing, Shoes & Accessories     19229\n",
       "Bath & Body                                19092\n",
       "Birthday Gifts                             18978\n",
       "                                           ...  \n",
       "Motorbike Chassis                            107\n",
       "Alexa Built-In Devices                       107\n",
       "Plugs                                        107\n",
       "Smart Home Security & Lighting               104\n",
       "Smart Speakers                                54\n",
       "Name: count, Length: 296, dtype: int64"
      ]
     },
     "execution_count": 21,
     "metadata": {},
     "output_type": "execute_result"
    }
   ],
   "source": [
    "category_counts"
   ]
  },
  {
   "cell_type": "code",
   "execution_count": 15,
   "id": "a3f4ab6a-e0b9-4cfe-b4fc-ce466acb9885",
   "metadata": {},
   "outputs": [
    {
     "data": {
      "text/plain": [
       "category\n",
       "Sports & Outdoors                         836265\n",
       "Beauty                                     19312\n",
       "Handmade Clothing, Shoes & Accessories     19229\n",
       "Bath & Body                                19092\n",
       "Birthday Gifts                             18978\n",
       "                                           ...  \n",
       "Motorbike Chassis                            107\n",
       "Alexa Built-In Devices                       107\n",
       "Plugs                                        107\n",
       "Smart Home Security & Lighting               104\n",
       "Smart Speakers                                54\n",
       "Name: count, Length: 296, dtype: int64"
      ]
     },
     "execution_count": 15,
     "metadata": {},
     "output_type": "execute_result"
    }
   ],
   "source": [
    "frequency_table = df['category'].value_counts()\n",
    "frequency_table"
   ]
  },
  {
   "cell_type": "code",
   "execution_count": 45,
   "id": "51fd915d-a4d5-45bd-8459-42350fe81c00",
   "metadata": {},
   "outputs": [
    {
     "data": {
      "text/plain": [
       "category\n",
       "Sports & Outdoors                         836265\n",
       "Beauty                                     19312\n",
       "Handmade Clothing, Shoes & Accessories     19229\n",
       "Bath & Body                                19092\n",
       "Birthday Gifts                             18978\n",
       "Name: count, dtype: int64"
      ]
     },
     "execution_count": 45,
     "metadata": {},
     "output_type": "execute_result"
    }
   ],
   "source": [
    "top_5 = df['category'].value_counts().head(5)\n",
    "top_5"
   ]
  },
  {
   "cell_type": "code",
   "execution_count": null,
   "id": "acafa5b0-7631-4962-ad8e-82e5d60acfb0",
   "metadata": {},
   "outputs": [],
   "source": [
    "# Visualizations:\n",
    "# Display the distribution of products across different categories using a bar chart. \n",
    "# If you face problems understanding the chart, do it for a subset of top categories.\n",
    "# For a subset of top categories, visualize their proportions using a pie chart. Does any category dominate the listings?"
   ]
  },
  {
   "cell_type": "code",
   "execution_count": 27,
   "id": "acfcb37b-7fb8-470b-a041-7d1b71ca7e36",
   "metadata": {},
   "outputs": [
    {
     "name": "stderr",
     "output_type": "stream",
     "text": [
      "/var/folders/bv/pz5wwd1x5nb7wmxlylb_sd4c0000gq/T/ipykernel_10385/4215486471.py:1: FutureWarning: \n",
      "\n",
      "Passing `palette` without assigning `hue` is deprecated and will be removed in v0.14.0. Assign the `x` variable to `hue` and set `legend=False` for the same effect.\n",
      "\n",
      "  sns.countplot(data=df, x='category', palette=\"Set3\")\n"
     ]
    },
    {
     "data": {
      "image/png": "[encoded data removed]",
      "text/plain": [
       "<Figure size 640x480 with 1 Axes>"
      ]
     },
     "metadata": {},
     "output_type": "display_data"
    }
   ],
   "source": [
    "sns.countplot(data=df, x='category', palette=\"Set3\")\n",
    "plt.show()"
   ]
  },
  {
   "cell_type": "code",
   "execution_count": 87,
   "id": "d774d987-2809-4548-8f09-3adf93f1bfab",
   "metadata": {},
   "outputs": [
    {
     "data": {
      "text/html": [
       "<div>\n",
       "<style scoped>\n",
       "    .dataframe tbody tr th:only-of-type {\n",
       "        vertical-align: middle;\n",
       "    }\n",
       "\n",
       "    .dataframe tbody tr th {\n",
       "        vertical-align: top;\n",
       "    }\n",
       "\n",
       "    .dataframe thead th {\n",
       "        text-align: right;\n",
       "    }\n",
       "</style>\n",
       "<table border=\"1\" class=\"dataframe\">\n",
       "  <thead>\n",
       "    <tr style=\"text-align: right;\">\n",
       "      <th></th>\n",
       "      <th>uid</th>\n",
       "      <th>asin</th>\n",
       "      <th>title</th>\n",
       "      <th>stars</th>\n",
       "      <th>reviews</th>\n",
       "      <th>price</th>\n",
       "      <th>isBestSeller</th>\n",
       "      <th>boughtInLastMonth</th>\n",
       "      <th>category</th>\n",
       "    </tr>\n",
       "  </thead>\n",
       "  <tbody>\n",
       "    <tr>\n",
       "      <th>82163</th>\n",
       "      <td>89483</td>\n",
       "      <td>B07DLGZ828</td>\n",
       "      <td>Neutrade GoPro 3M Sticky Pads Double Sided Adh...</td>\n",
       "      <td>4.2</td>\n",
       "      <td>3116</td>\n",
       "      <td>6.49</td>\n",
       "      <td>False</td>\n",
       "      <td>0</td>\n",
       "      <td>Sports &amp; Outdoors</td>\n",
       "    </tr>\n",
       "    <tr>\n",
       "      <th>82164</th>\n",
       "      <td>89484</td>\n",
       "      <td>B09HGZHXJT</td>\n",
       "      <td>WOLFANG Action Camera 4K 20MP GA100, Waterproo...</td>\n",
       "      <td>4.2</td>\n",
       "      <td>2594</td>\n",
       "      <td>49.99</td>\n",
       "      <td>False</td>\n",
       "      <td>0</td>\n",
       "      <td>Sports &amp; Outdoors</td>\n",
       "    </tr>\n",
       "    <tr>\n",
       "      <th>82165</th>\n",
       "      <td>89485</td>\n",
       "      <td>B08G2HBBB6</td>\n",
       "      <td>GoPro HERO9 - Waterproof Sports Camera with Fr...</td>\n",
       "      <td>4.5</td>\n",
       "      <td>5161</td>\n",
       "      <td>199.00</td>\n",
       "      <td>True</td>\n",
       "      <td>0</td>\n",
       "      <td>Sports &amp; Outdoors</td>\n",
       "    </tr>\n",
       "    <tr>\n",
       "      <th>82166</th>\n",
       "      <td>89486</td>\n",
       "      <td>B09D15SFMQ</td>\n",
       "      <td>GoPro HERO10 Black - Waterproof Action Camera ...</td>\n",
       "      <td>4.4</td>\n",
       "      <td>2467</td>\n",
       "      <td>249.99</td>\n",
       "      <td>False</td>\n",
       "      <td>0</td>\n",
       "      <td>Sports &amp; Outdoors</td>\n",
       "    </tr>\n",
       "    <tr>\n",
       "      <th>82167</th>\n",
       "      <td>89487</td>\n",
       "      <td>B08LD4VXGL</td>\n",
       "      <td>FitStill 60M/196FT Waterproof Case for Go Pro ...</td>\n",
       "      <td>4.5</td>\n",
       "      <td>9879</td>\n",
       "      <td>16.98</td>\n",
       "      <td>True</td>\n",
       "      <td>0</td>\n",
       "      <td>Sports &amp; Outdoors</td>\n",
       "    </tr>\n",
       "    <tr>\n",
       "      <th>...</th>\n",
       "      <td>...</td>\n",
       "      <td>...</td>\n",
       "      <td>...</td>\n",
       "      <td>...</td>\n",
       "      <td>...</td>\n",
       "      <td>...</td>\n",
       "      <td>...</td>\n",
       "      <td>...</td>\n",
       "      <td>...</td>\n",
       "    </tr>\n",
       "    <tr>\n",
       "      <th>2429088</th>\n",
       "      <td>2806950</td>\n",
       "      <td>B0045I6SHW</td>\n",
       "      <td>Cannondale Men's Bibshort Dart Team Bike Shorts</td>\n",
       "      <td>0.0</td>\n",
       "      <td>0</td>\n",
       "      <td>99.67</td>\n",
       "      <td>False</td>\n",
       "      <td>0</td>\n",
       "      <td>Sports &amp; Outdoors</td>\n",
       "    </tr>\n",
       "    <tr>\n",
       "      <th>2429089</th>\n",
       "      <td>2806951</td>\n",
       "      <td>B0045I6NZY</td>\n",
       "      <td>Cannondale Men's Baggy Fitness Bike Shorts</td>\n",
       "      <td>0.0</td>\n",
       "      <td>0</td>\n",
       "      <td>20.62</td>\n",
       "      <td>False</td>\n",
       "      <td>0</td>\n",
       "      <td>Sports &amp; Outdoors</td>\n",
       "    </tr>\n",
       "    <tr>\n",
       "      <th>2429090</th>\n",
       "      <td>2806952</td>\n",
       "      <td>B003BLON3A</td>\n",
       "      <td>Pearl iZUMi Men's Phase Splice Knicker</td>\n",
       "      <td>4.3</td>\n",
       "      <td>3</td>\n",
       "      <td>59.86</td>\n",
       "      <td>False</td>\n",
       "      <td>0</td>\n",
       "      <td>Sports &amp; Outdoors</td>\n",
       "    </tr>\n",
       "    <tr>\n",
       "      <th>2437153</th>\n",
       "      <td>2818782</td>\n",
       "      <td>B091HG57TP</td>\n",
       "      <td>Goodstoworld Boys Girls Tracksuit Bottoms 3D S...</td>\n",
       "      <td>4.2</td>\n",
       "      <td>554</td>\n",
       "      <td>14.99</td>\n",
       "      <td>False</td>\n",
       "      <td>0</td>\n",
       "      <td>Sports &amp; Outdoors</td>\n",
       "    </tr>\n",
       "    <tr>\n",
       "      <th>2437154</th>\n",
       "      <td>2818786</td>\n",
       "      <td>B09F8TFQDM</td>\n",
       "      <td>AIEOE Unisex Baby Snow Trousers Boys Girls Dow...</td>\n",
       "      <td>5.0</td>\n",
       "      <td>1</td>\n",
       "      <td>24.99</td>\n",
       "      <td>False</td>\n",
       "      <td>0</td>\n",
       "      <td>Sports &amp; Outdoors</td>\n",
       "    </tr>\n",
       "  </tbody>\n",
       "</table>\n",
       "<p>912876 rows × 9 columns</p>\n",
       "</div>"
      ],
      "text/plain": [
       "             uid        asin  \\\n",
       "82163      89483  B07DLGZ828   \n",
       "82164      89484  B09HGZHXJT   \n",
       "82165      89485  B08G2HBBB6   \n",
       "82166      89486  B09D15SFMQ   \n",
       "82167      89487  B08LD4VXGL   \n",
       "...          ...         ...   \n",
       "2429088  2806950  B0045I6SHW   \n",
       "2429089  2806951  B0045I6NZY   \n",
       "2429090  2806952  B003BLON3A   \n",
       "2437153  2818782  B091HG57TP   \n",
       "2437154  2818786  B09F8TFQDM   \n",
       "\n",
       "                                                     title  stars  reviews  \\\n",
       "82163    Neutrade GoPro 3M Sticky Pads Double Sided Adh...    4.2     3116   \n",
       "82164    WOLFANG Action Camera 4K 20MP GA100, Waterproo...    4.2     2594   \n",
       "82165    GoPro HERO9 - Waterproof Sports Camera with Fr...    4.5     5161   \n",
       "82166    GoPro HERO10 Black - Waterproof Action Camera ...    4.4     2467   \n",
       "82167    FitStill 60M/196FT Waterproof Case for Go Pro ...    4.5     9879   \n",
       "...                                                    ...    ...      ...   \n",
       "2429088    Cannondale Men's Bibshort Dart Team Bike Shorts    0.0        0   \n",
       "2429089         Cannondale Men's Baggy Fitness Bike Shorts    0.0        0   \n",
       "2429090             Pearl iZUMi Men's Phase Splice Knicker    4.3        3   \n",
       "2437153  Goodstoworld Boys Girls Tracksuit Bottoms 3D S...    4.2      554   \n",
       "2437154  AIEOE Unisex Baby Snow Trousers Boys Girls Dow...    5.0        1   \n",
       "\n",
       "          price  isBestSeller  boughtInLastMonth           category  \n",
       "82163      6.49         False                  0  Sports & Outdoors  \n",
       "82164     49.99         False                  0  Sports & Outdoors  \n",
       "82165    199.00          True                  0  Sports & Outdoors  \n",
       "82166    249.99         False                  0  Sports & Outdoors  \n",
       "82167     16.98          True                  0  Sports & Outdoors  \n",
       "...         ...           ...                ...                ...  \n",
       "2429088   99.67         False                  0  Sports & Outdoors  \n",
       "2429089   20.62         False                  0  Sports & Outdoors  \n",
       "2429090   59.86         False                  0  Sports & Outdoors  \n",
       "2437153   14.99         False                  0  Sports & Outdoors  \n",
       "2437154   24.99         False                  0  Sports & Outdoors  \n",
       "\n",
       "[912876 rows x 9 columns]"
      ]
     },
     "execution_count": 87,
     "metadata": {},
     "output_type": "execute_result"
    }
   ],
   "source": [
    "df_top5"
   ]
  },
  {
   "cell_type": "code",
   "execution_count": 88,
   "id": "4ba017cc-4e37-4c1e-bf64-6de1d5e51549",
   "metadata": {},
   "outputs": [
    {
     "data": {
      "text/plain": [
       "category\n",
       "Sports & Outdoors                         836265\n",
       "Beauty                                     19312\n",
       "Handmade Clothing, Shoes & Accessories     19229\n",
       "Bath & Body                                19092\n",
       "Birthday Gifts                             18978\n",
       "Name: count, dtype: int64"
      ]
     },
     "execution_count": 88,
     "metadata": {},
     "output_type": "execute_result"
    }
   ],
   "source": [
    "top_5"
   ]
  },
  {
   "cell_type": "code",
   "execution_count": 93,
   "id": "43b76196-4d4d-4839-a509-d1ff2c5ca051",
   "metadata": {},
   "outputs": [
    {
     "name": "stderr",
     "output_type": "stream",
     "text": [
      "/var/folders/bv/pz5wwd1x5nb7wmxlylb_sd4c0000gq/T/ipykernel_10385/1935794332.py:3: FutureWarning: \n",
      "\n",
      "Passing `palette` without assigning `hue` is deprecated and will be removed in v0.14.0. Assign the `x` variable to `hue` and set `legend=False` for the same effect.\n",
      "\n",
      "  sns.countplot(data=df_top5, x='category', palette='Set3')\n"
     ]
    },
    {
     "data": {
      "image/png": "[encoded data removed]",
      "text/plain": [
       "<Figure size 640x480 with 1 Axes>"
      ]
     },
     "metadata": {},
     "output_type": "display_data"
    }
   ],
   "source": [
    "top_5 = df['category'].value_counts().head(5)\n",
    "df_top5 = df[df['category'].isin(top_5.index)]\n",
    "sns.countplot(data=df_top5, x='category', palette='Set3')\n",
    "plt.xticks(rotation = 90)\n",
    "plt.show()"
   ]
  },
  {
   "cell_type": "code",
   "execution_count": 102,
   "id": "8ab69c01-419b-4ea7-9262-35d1f7e9d33c",
   "metadata": {},
   "outputs": [
    {
     "data": {
      "text/plain": [
       "category\n",
       "Sports & Outdoors                         836265\n",
       "Beauty                                     19312\n",
       "Handmade Clothing, Shoes & Accessories     19229\n",
       "Bath & Body                                19092\n",
       "Birthday Gifts                             18978\n",
       "Name: count, dtype: int64"
      ]
     },
     "execution_count": 102,
     "metadata": {},
     "output_type": "execute_result"
    }
   ],
   "source": [
    "top_5"
   ]
  },
  {
   "cell_type": "code",
   "execution_count": 113,
   "id": "7b540591-df09-4a20-84a8-9f8487c2e4e2",
   "metadata": {},
   "outputs": [
    {
     "data": {
      "image/png": "[encoded data removed]",
      "text/plain": [
       "<Figure size 640x480 with 1 Axes>"
      ]
     },
     "metadata": {},
     "output_type": "display_data"
    }
   ],
   "source": [
    "sns.barplot(data = top_5)\n",
    "plt.xticks(rotation = 90)\n",
    "plt.show()"
   ]
  },
  {
   "cell_type": "code",
   "execution_count": 41,
   "id": "20a7800c-022d-4fa9-a0bc-60e4587b89a4",
   "metadata": {},
   "outputs": [
    {
     "data": {
      "image/png": "[encoded data removed]",
      "text/plain": [
       "<Figure size 600x600 with 1 Axes>"
      ]
     },
     "metadata": {},
     "output_type": "display_data"
    }
   ],
   "source": [
    "df['category'].value_counts().head(5).plot.pie(\n",
    "    autopct='%1.1f%%',\n",
    "    startangle=90,\n",
    "    colors=sns.color_palette(\"Set3\"),figsize=(6, 6))\n",
    "plt.show()"
   ]
  },
  {
   "cell_type": "code",
   "execution_count": null,
   "id": "63dc8756-c229-4b33-9c4a-ea5f2c50ee17",
   "metadata": {},
   "outputs": [],
   "source": [
    "# Part 2: Delving into Product Pricing\n",
    "# Business Question: How are products priced on Amazon UK, and are there specific price points or ranges that are more common?\n",
    "\n",
    "# 1: Measures of Centrality:\n",
    "# Calculate the mean, median, and mode for the price of products.\n",
    "# What's the average price point of products listed? How does this compare with the most common price point (mode)?\n",
    "\n",
    "# 2: Measures of Dispersion:\n",
    "# Determine the variance, standard deviation, range, and interquartile range for product price.\n",
    "# How varied are the product prices? Are there any indicators of a significant spread in prices?\n",
    "\n",
    "# 3: Visualizations:\n",
    "# Is there a specific price range where most products fall? Plot a histogram to visualize the distribution of product prices. \n",
    "# If its hard to read these diagrams, think why this is, and explain how it could be solved..\n",
    "# Are there products that are priced significantly higher than the rest? \n",
    "# Use a box plot to showcase the spread and potential outliers in product pricing."
   ]
  },
  {
   "cell_type": "code",
   "execution_count": 74,
   "id": "80700817-fd78-418d-9822-299daa5fd299",
   "metadata": {},
   "outputs": [
    {
     "data": {
      "text/plain": [
       "count    2.443651e+06\n",
       "mean     8.924381e+01\n",
       "std      3.456089e+02\n",
       "min      0.000000e+00\n",
       "25%      9.990000e+00\n",
       "50%      1.909000e+01\n",
       "75%      4.599000e+01\n",
       "max      1.000000e+05\n",
       "Name: price, dtype: float64"
      ]
     },
     "execution_count": 74,
     "metadata": {},
     "output_type": "execute_result"
    }
   ],
   "source": [
    "# 1: Measures of Centrality:\n",
    "# Calculate the mean, median, and mode for the price of products.\n",
    "# mean = 8.92\n",
    "# median = 1.91\n",
    "# mode = 9.99\n",
    "df[\"price\"].describe()"
   ]
  },
  {
   "cell_type": "code",
   "execution_count": 65,
   "id": "7a2180f5-52fa-4617-873c-2a294948248a",
   "metadata": {},
   "outputs": [
    {
     "data": {
      "text/plain": [
       "np.float64(9.99)"
      ]
     },
     "execution_count": 65,
     "metadata": {},
     "output_type": "execute_result"
    }
   ],
   "source": [
    "df[\"price\"].mode()[0]"
   ]
  },
  {
   "cell_type": "code",
   "execution_count": null,
   "id": "34bcac24-5b8f-46fc-bf2a-da6efcdd3d63",
   "metadata": {},
   "outputs": [],
   "source": [
    "# What's the average price point of products listed? How does this compare with the most common price point (mode)?\n",
    "# mean = 8.92, mode = 9.99. The average / mean price point of products listed is lower than the mode / most common price point"
   ]
  },
  {
   "cell_type": "code",
   "execution_count": 66,
   "id": "1b16abcc-07d1-4e6c-a8b1-6d8014bf17e1",
   "metadata": {},
   "outputs": [
    {
     "data": {
      "text/plain": [
       "119445.48532256528"
      ]
     },
     "execution_count": 66,
     "metadata": {},
     "output_type": "execute_result"
    }
   ],
   "source": [
    "# 2: Measures of Dispersion:\n",
    "# Determine the variance, standard deviation, range, and interquartile range for product price.\n",
    "df[\"price\"].var()"
   ]
  },
  {
   "cell_type": "code",
   "execution_count": 67,
   "id": "8d3b5dd4-64e0-4049-91d2-d3d155343587",
   "metadata": {},
   "outputs": [
    {
     "data": {
      "text/plain": [
       "345.60886175352226"
      ]
     },
     "execution_count": 67,
     "metadata": {},
     "output_type": "execute_result"
    }
   ],
   "source": [
    "df[\"price\"].std()"
   ]
  },
  {
   "cell_type": "code",
   "execution_count": 69,
   "id": "4a4e4c48-6f91-484c-8c47-f6949410dea5",
   "metadata": {},
   "outputs": [
    {
     "data": {
      "text/plain": [
       "100000.0"
      ]
     },
     "execution_count": 69,
     "metadata": {},
     "output_type": "execute_result"
    }
   ],
   "source": [
    "df['price'].max() - df['price'].min()"
   ]
  },
  {
   "cell_type": "code",
   "execution_count": 71,
   "id": "69498555-42f8-492d-96bc-5a510918dbf0",
   "metadata": {},
   "outputs": [
    {
     "data": {
      "text/plain": [
       "np.float64(36.0)"
      ]
     },
     "execution_count": 71,
     "metadata": {},
     "output_type": "execute_result"
    }
   ],
   "source": [
    "Q1 = df['price'].quantile(0.25)\n",
    "Q3 = df['price'].quantile(0.75)\n",
    "IQR = Q3 - Q1\n",
    "IQR"
   ]
  },
  {
   "cell_type": "code",
   "execution_count": null,
   "id": "bc48fc62-ea3a-42e3-93f8-a913e60b6229",
   "metadata": {},
   "outputs": [],
   "source": [
    "# How varied are the product prices? Are there any indicators of a significant spread in prices?\n",
    "# 100000 difference between the min and max prices"
   ]
  },
  {
   "cell_type": "code",
   "execution_count": null,
   "id": "26f1b41c-9b41-45f8-8a3b-b0adfc7c3a7e",
   "metadata": {},
   "outputs": [],
   "source": [
    "# 3: Visualizations:\n",
    "# Is there a specific price range where most products fall? Plot a histogram to visualize the distribution of product prices. Yes,\n",
    "# a lower price range which is hard to read the exact number..\n",
    "# If its hard to read these diagrams, think why this is, and explain how it could be solved..  Many outliers exist outside of the most \n",
    "# common lower price range, so a potential solution could be to remove the outliers.\n",
    "# Are there products that are priced significantly higher than the rest? Yes, until the max 100000.\n",
    "# Use a box plot to showcase the spread and potential outliers in product pricing. "
   ]
  },
  {
   "cell_type": "code",
   "execution_count": 81,
   "id": "34ff1edc-ce5d-4304-917d-19ee03435ddc",
   "metadata": {},
   "outputs": [
    {
     "data": {
      "image/png": "[encoded data removed]",
      "text/plain": [
       "<Figure size 640x480 with 1 Axes>"
      ]
     },
     "metadata": {},
     "output_type": "display_data"
    }
   ],
   "source": [
    "sns.histplot(df['price'], kde=True, bins=50, color=\"salmon\")\n",
    "plt.show()"
   ]
  },
  {
   "cell_type": "code",
   "execution_count": 95,
   "id": "7bfced59-0c7a-420d-b9a9-29f5eaf929c5",
   "metadata": {},
   "outputs": [
    {
     "data": {
      "image/png": "[encoded data removed]",
      "text/plain": [
       "<Figure size 640x480 with 1 Axes>"
      ]
     },
     "metadata": {},
     "output_type": "display_data"
    }
   ],
   "source": [
    "sns.boxplot(data = df['price'], color=\"lightblue\")\n",
    "plt.show()"
   ]
  },
  {
   "cell_type": "code",
   "execution_count": null,
   "id": "ba3cb9ee-272c-44de-8c8b-63af5552fb32",
   "metadata": {},
   "outputs": [],
   "source": [
    "# Part 3: Unpacking Product Ratings\n",
    "# Business Question: How do customers rate products on Amazon UK, and are there any patterns or tendencies in the ratings?\n",
    "\n",
    "# 1: Measures of Centrality:\n",
    "# Calculate the mean, median, and mode for the rating of products.\n",
    "# How do customers generally rate products? Is there a common trend?\n",
    "\n",
    "# 2: Measures of Dispersion:\n",
    "# Determine the variance, standard deviation, and interquartile range for product rating.\n",
    "# Are the ratings consistent, or is there a wide variation in customer feedback?\n",
    "\n",
    "# 3: Shape of the Distribution:\n",
    "# Calculate the skewness and kurtosis for the rating column.\n",
    "# Are the ratings normally distributed, or do they lean towards higher or lower values?\n",
    "\n",
    "# 4: Visualizations:\n",
    "# Plot a histogram to visualize the distribution of product ratings. Is there a specific rating that is more common?"
   ]
  },
  {
   "cell_type": "code",
   "execution_count": 114,
   "id": "2f6caede-b813-49da-9626-c2b18a04fb20",
   "metadata": {},
   "outputs": [
    {
     "data": {
      "text/plain": [
       "count    2.443651e+06\n",
       "mean     2.152836e+00\n",
       "std      2.194865e+00\n",
       "min      0.000000e+00\n",
       "25%      0.000000e+00\n",
       "50%      0.000000e+00\n",
       "75%      4.400000e+00\n",
       "max      5.000000e+00\n",
       "Name: stars, dtype: float64"
      ]
     },
     "execution_count": 114,
     "metadata": {},
     "output_type": "execute_result"
    }
   ],
   "source": [
    "# 1: Measures of Centrality:\n",
    "# Calculate the mean, median, and mode for the rating of products.\n",
    "# How do customers generally rate products? Is there a common trend? 0 stars is the most common / mode.\n",
    "# mean = 2.15\n",
    "# median = 0\n",
    "# mode = 0\n",
    "df[\"stars\"].describe()"
   ]
  },
  {
   "cell_type": "code",
   "execution_count": 116,
   "id": "86985919-cec0-4df4-98d1-bf7bfeab22d1",
   "metadata": {},
   "outputs": [
    {
     "data": {
      "text/plain": [
       "0.0"
      ]
     },
     "execution_count": 116,
     "metadata": {},
     "output_type": "execute_result"
    }
   ],
   "source": [
    "df[\"stars\"].median()§§"
   ]
  },
  {
   "cell_type": "code",
   "execution_count": 117,
   "id": "1276f96c-fdf4-4d49-ada5-9ef6a691421a",
   "metadata": {},
   "outputs": [
    {
     "data": {
      "text/plain": [
       "0    0.0\n",
       "Name: stars, dtype: float64"
      ]
     },
     "execution_count": 117,
     "metadata": {},
     "output_type": "execute_result"
    }
   ],
   "source": [
    "df[\"stars\"].mode()"
   ]
  },
  {
   "cell_type": "code",
   "execution_count": 118,
   "id": "1a4d08d5-ab39-45de-b3c1-7464197eb54a",
   "metadata": {},
   "outputs": [
    {
     "data": {
      "text/plain": [
       "4.81743402976196"
      ]
     },
     "execution_count": 118,
     "metadata": {},
     "output_type": "execute_result"
    }
   ],
   "source": [
    "# 2: Measures of Dispersion:\n",
    "# Determine the variance, standard deviation, and interquartile range for product rating.\n",
    "# Are the ratings consistent, or is there a wide variation in customer feedback? There is a wide variation of stars/ratings from 0-5.\n",
    "df[\"stars\"].var()"
   ]
  },
  {
   "cell_type": "code",
   "execution_count": 120,
   "id": "b50ee3f2-86ea-418b-9249-d16d71fa5097",
   "metadata": {},
   "outputs": [
    {
     "data": {
      "text/plain": [
       "2.1948653785054697"
      ]
     },
     "execution_count": 120,
     "metadata": {},
     "output_type": "execute_result"
    }
   ],
   "source": [
    "df[\"stars\"].std()"
   ]
  },
  {
   "cell_type": "code",
   "execution_count": 122,
   "id": "3df118df-1b63-4542-a2da-d5687465f401",
   "metadata": {},
   "outputs": [
    {
     "data": {
      "text/plain": [
       "np.float64(4.4)"
      ]
     },
     "execution_count": 122,
     "metadata": {},
     "output_type": "execute_result"
    }
   ],
   "source": [
    "Q1 = df[\"stars\"].quantile(0.25)\n",
    "Q3 = df[\"stars\"].quantile(0.75)\n",
    "IQR = Q3 - Q1\n",
    "IQR"
   ]
  },
  {
   "cell_type": "code",
   "execution_count": null,
   "id": "c9ee6576-04c6-4ced-8b76-62d0bae83627",
   "metadata": {},
   "outputs": [],
   "source": [
    "# 3: Shape of the Distribution:\n",
    "# Calculate the skewness and kurtosis for the rating column.\n",
    "# Are the ratings normally distributed, or do they lean towards higher or lower values? \n",
    "# Quite symmetrical skewness, slightly positive. Slightly negative kurtosis, zero to moderate, \n",
    "# Data is significantly flatter than a normal distribution, with fewer extreme outliers."
   ]
  },
  {
   "cell_type": "code",
   "execution_count": 124,
   "id": "d2caa4ef-0051-4c9d-91fd-0f4d44153741",
   "metadata": {},
   "outputs": [
    {
     "data": {
      "text/plain": [
       "(np.float64(0.08120735761080985), np.float64(-1.9260061280432985))"
      ]
     },
     "execution_count": 124,
     "metadata": {},
     "output_type": "execute_result"
    }
   ],
   "source": [
    "skewness_rating = df[\"stars\"].skew()\n",
    "kurtosis_rating = df[\"stars\"].kurtosis()\n",
    "\n",
    "skewness_rating, kurtosis_rating"
   ]
  },
  {
   "cell_type": "code",
   "execution_count": 126,
   "id": "b894578e-ad4c-4a43-b5ff-517e880e1e6a",
   "metadata": {},
   "outputs": [
    {
     "data": {
      "image/png": "[encoded data removed]",
      "text/plain": [
       "<Figure size 640x480 with 1 Axes>"
      ]
     },
     "metadata": {},
     "output_type": "display_data"
    }
   ],
   "source": [
    "# 4: Visualizations:\n",
    "# Plot a histogram to visualize the distribution of product ratings. Is there a specific rating that is more common? \n",
    "# The most common star/rating is 0.\n",
    "sns.histplot(df[\"stars\"], kde=True, bins=30, color=\"salmon\")\n",
    "plt.show()"
   ]
  }
 ],
 "metadata": {
  "kernelspec": {
   "display_name": "Python [conda env:base] *",
   "language": "python",
   "name": "conda-base-py"
  },
  "language_info": {
   "codemirror_mode": {
    "name": "ipython",
    "version": 3
   },
   "file_extension": ".py",
   "mimetype": "text/x-python",
   "name": "python",
   "nbconvert_exporter": "python",
   "pygments_lexer": "ipython3",
   "version": "3.13.5"
  }
 },
 "nbformat": 4,
 "nbformat_minor": 5
}
